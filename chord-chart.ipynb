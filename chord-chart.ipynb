{
 "cells": [
  {
   "cell_type": "code",
   "execution_count": 10,
   "id": "04eaf6dc",
   "metadata": {},
   "outputs": [
    {
     "name": "stdout",
     "output_type": "stream",
     "text": [
      "       queerphobic  communal  political  sexist  casteist  racist  ablelist  \\\n",
      "1                1         0          0       0         0       0         0   \n",
      "26               0         0          0       1         0       0         0   \n",
      "28               0         0          0       1         0       0         0   \n",
      "29               0         0          0       0         1       0         0   \n",
      "31               0         1          0       1         0       0         0   \n",
      "...            ...       ...        ...     ...       ...     ...       ...   \n",
      "48391            0         0          0       1         0       0         0   \n",
      "48392            1         0          0       0         0       0         0   \n",
      "48393            1         0          0       0         0       0         0   \n",
      "48394            0         0          0       1         0       0         0   \n",
      "48395            0         0          0       0         1       0         0   \n",
      "\n",
      "       general  \n",
      "1            0  \n",
      "26           0  \n",
      "28           0  \n",
      "29           0  \n",
      "31           0  \n",
      "...        ...  \n",
      "48391        0  \n",
      "48392        0  \n",
      "48393        0  \n",
      "48394        0  \n",
      "48395        0  \n",
      "\n",
      "[22361 rows x 8 columns]\n",
      "queerphobic    int64\n",
      "communal       int64\n",
      "political      int64\n",
      "sexist         int64\n",
      "casteist       int64\n",
      "racist         int64\n",
      "ablelist       int64\n",
      "general        int64\n",
      "dtype: object\n"
     ]
    }
   ],
   "source": [
    "import pandas as pd\n",
    "\n",
    "#read csv\n",
    "df = pd.read_csv('raw_data.csv')\n",
    "\n",
    "#exclude columns\n",
    "df = df.drop(['verified', 'S no'], axis=1)\n",
    "\n",
    "#convert all values to numbers\n",
    "df = df.fillna(0).astype(int)  # fills NaNs with 0, then casts to int\n",
    "\n",
    "\n",
    "#filter for only hatespeech\n",
    "filtered_df = df[df['hate'] > 0]\n",
    "filtered_df = filtered_df.drop(['hate'], axis=1)\n",
    "\n",
    "print(filtered_df)\n",
    "print(filtered_df.dtypes)"
   ]
  },
  {
   "cell_type": "code",
   "execution_count": 12,
   "id": "9f971b78",
   "metadata": {},
   "outputs": [
    {
     "name": "stdout",
     "output_type": "stream",
     "text": [
      "             queerphobic  communal  political  sexist  casteist  racist  \\\n",
      "queerphobic         1973        77         83     396        71      30   \n",
      "communal              77      2863        796     836       176      48   \n",
      "political             83       796       5712     423        98      34   \n",
      "sexist               396       836        423    8392       284     148   \n",
      "casteist              71       176         98     284      1782     228   \n",
      "racist                30        48         34     148       228     480   \n",
      "ablelist              19        59        121     128        27      11   \n",
      "general                0         0          0       0         0       0   \n",
      "\n",
      "             ablelist  general  \n",
      "queerphobic        19        0  \n",
      "communal           59        0  \n",
      "political         121        0  \n",
      "sexist            128        0  \n",
      "casteist           27        0  \n",
      "racist             11        0  \n",
      "ablelist          492        0  \n",
      "general             0     4087  \n"
     ]
    }
   ],
   "source": [
    "# multiply by the transpose of the df to get a co-occurrence matrix\n",
    "\n",
    "data_matrix = filtered_df.T.dot(filtered_df)\n",
    "\n",
    "print(data_matrix)\n",
    "\n",
    "data_matrix.to_csv('matrix.csv')"
   ]
  },
  {
   "cell_type": "code",
   "execution_count": null,
   "id": "e4deabfc",
   "metadata": {},
   "outputs": [],
   "source": []
  }
 ],
 "metadata": {
  "kernelspec": {
   "display_name": "Python 3",
   "language": "python",
   "name": "python3"
  },
  "language_info": {
   "codemirror_mode": {
    "name": "ipython",
    "version": 3
   },
   "file_extension": ".py",
   "mimetype": "text/x-python",
   "name": "python",
   "nbconvert_exporter": "python",
   "pygments_lexer": "ipython3",
   "version": "3.13.5"
  }
 },
 "nbformat": 4,
 "nbformat_minor": 5
}
